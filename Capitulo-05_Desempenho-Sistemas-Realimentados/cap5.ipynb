import control as ct
import numpy as np
import matplotlib.pyplot as plt
import pandas as pd

zeta = 0.5
w_n = 2.0
G = ct.tf([w_n**2], [1, 2*zeta*w_n, w_n**2])

t = np.linspace(0, 10, 1000)
_, y = ct.step_response(G, t)
info = ct.step_info(G)

plt.figure(figsize=(12, 7))
plt.plot(t, y)
plt.axhline(1, color='k', linestyle='--', label='Valor Final')

plt.plot(info['PeakTime'], info['Peak'], 'ro')
plt.text(info['PeakTime'], info['Peak']*1.05, f"Overshoot: {info['Overshoot']:.1f}%")

t_start_rise = t[np.where(y >= 0.1)[0][0]]
t_end_rise = t[np.where(y >= 0.9)[0][0]]

plt.plot([t_start_rise, t_end_rise], [0.1, 0.9], 'g--')
plt.text(t_end_rise, 0.5, f"Rise Time: {info['RiseTime']:.2f}s")

plt.axhline(1.02, color='gray', linestyle=':')
plt.axhline(0.98, color='gray', linestyle=':')
plt.text(info['SettlingTime']*1.05, 0.7, f"Settling Time (2%): {info['SettlingTime']:.2f}s")

plt.title('Métricas de Desempenho da Resposta ao Degrau')
plt.xlabel('Tempo (s)')
plt.ylabel('Amplitude')
plt.grid()
plt.legend()
plt.show()

print("Métricas de Desempenho Calculadas:")
metrics_df = pd.DataFrame.from_dict(info, orient='index', columns=['Valor'])
print(metrics_df)
