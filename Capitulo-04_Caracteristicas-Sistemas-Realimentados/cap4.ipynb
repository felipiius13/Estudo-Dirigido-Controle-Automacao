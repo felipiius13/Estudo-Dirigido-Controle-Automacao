# Título do Notebook: Simulação Computacional - Capítulo 4

# Importação das bibliotecas
import control as ct
import numpy as np
import matplotlib.pyplot as plt

# 1. ANÁLISE DE SENSIBILIDADE
# -----------------------------
# Função de transferência do processo G(s) = K / (s+p)
# Parâmetros nominais
K_nominal = 1
p_nominal = 2
G_nominal = ct.tf([K_nominal], [1, p_nominal])

# Sistema em malha fechada com ganho C=10
C = ct.tf([10], [1])
T_nominal = ct.feedback(C * G_nominal, 1)

# Parâmetro do processo varia em +50% (desgaste)
p_variado = p_nominal * 1.5
G_variado = ct.tf([K_nominal], [1, p_variado])
T_variado = ct.feedback(C * G_variado, 1)

# Simulação da resposta ao degrau
t = np.linspace(0, 5, 500)
_, y_nominal = ct.step_response(T_nominal, t)
_, y_variado = ct.step_response(T_variado, t)

# Plot
plt.figure(figsize=(10, 5))
plt.plot(t, y_nominal, 'b-', label='Resposta Nominal (p=2)')
plt.plot(t, y_variado, 'r--', label='Resposta com Variação (p=3)')
plt.title('Efeito da Variação de Parâmetro (Sensibilidade Reduzida)')
plt.xlabel('Tempo (s)')
plt.ylabel('Amplitude')
plt.legend()
plt.grid()
plt.show()

print("Nota-se que a realimentação manteve a resposta muito próxima da nominal, apesar da grande variação no parâmetro do processo.")

# 2. ANÁLISE DE REJEIÇÃO A DISTÚRBIOS
# ------------------------------------
# G(s) = 1/(s^2 + s + 1), Distúrbio D(s) entra somado na saída
G = ct.tf([1], [1, 1, 1])
# A função de transferência do erro em relação ao distúrbio é E(s)/D(s) = -G/(1+CG)
# Com controlador C=20
C = ct.tf([20], [1])
erro_disturbio_mf = ct.feedback(G, C) # Efeito do distúrbio na saída

# Simulação de um distúrbio em degrau
t_dist = np.linspace(0, 10, 500)
_, y_dist = ct.step_response(erro_disturbio_mf, t_dist)

plt.figure(figsize=(10, 5))
plt.plot(t_dist, y_dist, 'g-')
plt.title('Rejeição a um Distúrbio em Degrau')
plt.xlabel('Tempo (s)')
plt.ylabel('Efeito do distúrbio na saída')
plt.grid()
plt.show()

print("O sistema realimentado rapidamente atenua o efeito do distúrbio, levando-o a um valor muito pequeno em regime permanente.")
